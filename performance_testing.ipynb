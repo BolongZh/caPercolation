{
 "cells": [
  {
   "cell_type": "code",
   "execution_count": 1,
   "id": "massive-desert",
   "metadata": {},
   "outputs": [],
   "source": [
    "import numpy as np\n",
    "import matplotlib.pyplot as plt\n",
    "import itertools\n",
    "import matplotlib.animation as animation\n",
    "from numba import jit, njit, vectorize\n",
    "from numba.typed import List\n",
    "# seeding\n",
    "np.random.seed(6)"
   ]
  },
  {
   "cell_type": "code",
   "execution_count": null,
   "id": "wired-stephen",
   "metadata": {},
   "outputs": [],
   "source": [
    "num_sim = 100\n",
    "for _ in range(num_sim):\n",
    "    adjacency_matrix = np.zeros((n, n))\n",
    "    for i in range(n):\n",
    "        for j in range(i + 1, n):\n",
    "            if np.random.random_sample() < p:\n",
    "                adjacency_matrix[i][j] = 1"
   ]
  }
 ],
 "metadata": {
  "kernelspec": {
   "display_name": "Python 3 (ipykernel)",
   "language": "python",
   "name": "python3"
  },
  "language_info": {
   "codemirror_mode": {
    "name": "ipython",
    "version": 3
   },
   "file_extension": ".py",
   "mimetype": "text/x-python",
   "name": "python",
   "nbconvert_exporter": "python",
   "pygments_lexer": "ipython3",
   "version": "3.9.6"
  }
 },
 "nbformat": 4,
 "nbformat_minor": 5
}
