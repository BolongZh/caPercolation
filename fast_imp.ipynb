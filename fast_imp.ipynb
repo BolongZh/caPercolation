{
 "cells": [
  {
   "cell_type": "code",
   "execution_count": 16,
   "metadata": {
    "pycharm": {
     "is_executing": true
    }
   },
   "outputs": [],
   "source": [
    "import multiprocessing\n",
    "import concurrent.futures\n",
    "import numpy as np\n",
    "from percolation import trial\n",
    "import matplotlib.pyplot as plt"
   ]
  },
  {
   "cell_type": "code",
   "execution_count": 24,
   "metadata": {},
   "outputs": [
    {
     "name": "stdout",
     "output_type": "stream",
     "text": [
      "3min 26s ± 0 ns per loop (mean ± std. dev. of 1 run, 1 loop each)\n"
     ]
    }
   ],
   "source": [
    "%%timeit -r1\n",
    "if __name__ == '__main__':\n",
    "\n",
    "    num_sim = 30\n",
    "    estimated_prob = []\n",
    "    prob_space_plot = []\n",
    "    h = 4\n",
    "    n = 50\n",
    "    prob_space = np.arange(0, 1, 0.1)\n",
    "    # for p in prob_space:\n",
    "    #     # mapping a complete graph to a list of coordinates\n",
    "    #     # simulate ER graph generation\n",
    "    #\n",
    "    #     trial(num_sim, n, h, p, estimated_prob)\n",
    "\n",
    "\n",
    "\n",
    "    if __name__ == '__main__':\n",
    "        with concurrent.futures.ProcessPoolExecutor() as excecuter:\n",
    "            results = [excecuter.submit(trial, num_sim, n, h, p, estimated_prob) for p in prob_space]\n",
    "            for f in concurrent.futures.as_completed(results):\n",
    "                pp, pc = f.result()\n",
    "                estimated_prob.append(pc)\n",
    "                prob_space_plot.append(pp)\n",
    "        \n"
   ]
  },
  {
   "cell_type": "code",
   "execution_count": 23,
   "metadata": {},
   "outputs": [
    {
     "data": {
      "text/plain": [
       "<matplotlib.collections.PathCollection at 0x192fae16df0>"
      ]
     },
     "execution_count": 23,
     "metadata": {},
     "output_type": "execute_result"
    },
    {
     "data": {
      "image/png": "[encoded data removed]",
      "text/plain": [
       "<Figure size 432x288 with 1 Axes>"
      ]
     },
     "metadata": {
      "needs_background": "light"
     },
     "output_type": "display_data"
    }
   ],
   "source": [
    "plt.scatter(prob_space_plot,estimated_prob)"
   ]
  },
  {
   "cell_type": "code",
   "execution_count": null,
   "metadata": {},
   "outputs": [],
   "source": []
  }
 ],
 "metadata": {
  "kernelspec": {
   "display_name": "Python 3 (ipykernel)",
   "language": "python",
   "name": "python3"
  },
  "language_info": {
   "codemirror_mode": {
    "name": "ipython",
    "version": 3
   },
   "file_extension": ".py",
   "mimetype": "text/x-python",
   "name": "python",
   "nbconvert_exporter": "python",
   "pygments_lexer": "ipython3",
   "version": "3.9.6"
  }
 },
 "nbformat": 4,
 "nbformat_minor": 1
}